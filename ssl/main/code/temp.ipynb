{
 "cells": [
  {
   "cell_type": "code",
   "execution_count": 1,
   "metadata": {},
   "outputs": [],
   "source": [
    "from utils.dataset import *\n",
    "import pandas as pd"
   ]
  },
  {
   "cell_type": "code",
   "execution_count": 2,
   "metadata": {},
   "outputs": [
    {
     "name": "stdout",
     "output_type": "stream",
     "text": [
      "['airplane', 'automobile', 'bird', 'cat', 'deer', 'dog', 'frog', 'horse', 'ship', 'truck']\n",
      "0     2\n",
      "1    10\n",
      "2     3\n",
      "3     1\n",
      "4     5\n",
      "5     7\n",
      "6    14\n",
      "7    20\n",
      "8     1\n",
      "9     1\n",
      "Name: count, dtype: int64\n"
     ]
    }
   ],
   "source": [
    "N_max = 20\n",
    "gamma = 20\n",
    "NUM_CLASSES = 10\n",
    "model_seed = 2000\n",
    "\n",
    "data_dict = load_cifar10()\n",
    "print(data_dict['label_names'])\n",
    "if NUM_CLASSES == 2:\n",
    "    data_dict = cut_class(data_dict, remain = ['bird', 'deer'])\n",
    "\n",
    "split_obs_mis(data_dict, \n",
    "              N_max = N_max,\n",
    "              gamma = gamma,\n",
    "              seed = 100)\n",
    "\n",
    "# split_obs_mis_with_lr(data_dict, label_weight=np.linspace(-2, -4, 2), seed=100)\n",
    "print(pd.Series(data_dict['train_obs_labels']).value_counts().sort_index())"
   ]
  },
  {
   "cell_type": "code",
   "execution_count": 10,
   "metadata": {},
   "outputs": [],
   "source": [
    "labeled = data_dict['labeled']\n",
    "n = len(labeled)\n",
    "\n",
    "ind = np.array([i for i in range(n)])\n",
    "a = set(ind[labeled])"
   ]
  },
  {
   "cell_type": "code",
   "execution_count": 11,
   "metadata": {},
   "outputs": [],
   "source": [
    "import joblib \n",
    "\n",
    "labeled_idx_100 = joblib.load('test_100_2.npy')\n",
    "b = set(labeled_idx_100)"
   ]
  },
  {
   "cell_type": "code",
   "execution_count": 13,
   "metadata": {},
   "outputs": [
    {
     "data": {
      "text/plain": [
       "{1339, 13903, 15126, 15339}"
      ]
     },
     "execution_count": 13,
     "metadata": {},
     "output_type": "execute_result"
    }
   ],
   "source": [
    "a & b"
   ]
  },
  {
   "cell_type": "code",
   "execution_count": 7,
   "metadata": {},
   "outputs": [
    {
     "data": {
      "text/plain": [
       "array([4, 7, 6, 7, 7, 6, 0, 1, 1, 5, 1, 6, 1, 6, 7, 7, 7, 8, 4, 6, 6, 7,\n",
       "       5, 4, 6, 4, 7, 7, 7, 6, 7, 7, 6, 6, 7, 2, 7, 5, 3, 7, 1, 7, 9, 2,\n",
       "       5, 1, 6, 5, 0, 5, 1, 7, 1, 7, 2, 1, 4, 7, 1, 5, 6, 6, 6, 7])"
      ]
     },
     "execution_count": 7,
     "metadata": {},
     "output_type": "execute_result"
    }
   ],
   "source": [
    "data_dict['train_obs_labels']"
   ]
  }
 ],
 "metadata": {
  "kernelspec": {
   "display_name": "ate",
   "language": "python",
   "name": "python3"
  },
  "language_info": {
   "codemirror_mode": {
    "name": "ipython",
    "version": 3
   },
   "file_extension": ".py",
   "mimetype": "text/x-python",
   "name": "python",
   "nbconvert_exporter": "python",
   "pygments_lexer": "ipython3",
   "version": "3.11.4"
  },
  "orig_nbformat": 4
 },
 "nbformat": 4,
 "nbformat_minor": 2
}
